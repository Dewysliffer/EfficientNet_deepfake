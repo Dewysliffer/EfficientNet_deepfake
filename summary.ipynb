{
 "cells": [
  {
   "cell_type": "code",
   "execution_count": 3,
   "metadata": {},
   "outputs": [],
   "source": [
    "import torch.nn as nn\n",
    "import torch\n",
    "from torchinfo import summary\n",
    "import math\n",
    "from thop import profile"
   ]
  },
  {
   "cell_type": "code",
   "execution_count": 1,
   "metadata": {},
   "outputs": [],
   "source": [
    "from backbone.efficientnet import efficientnet_b0"
   ]
  },
  {
   "cell_type": "code",
   "execution_count": 2,
   "metadata": {},
   "outputs": [],
   "source": [
    "model = efficientnet_b0(num_classes=2)"
   ]
  },
  {
   "cell_type": "code",
   "execution_count": 4,
   "metadata": {},
   "outputs": [
    {
     "name": "stdout",
     "output_type": "stream",
     "text": [
      "torch.Size([1, 2])\n"
     ]
    }
   ],
   "source": [
    "input = torch.randn(1, 3, 224, 224)\n",
    "output = model(input)\n",
    "print(output.shape) "
   ]
  },
  {
   "cell_type": "code",
   "execution_count": 5,
   "metadata": {},
   "outputs": [
    {
     "name": "stdout",
     "output_type": "stream",
     "text": [
      "[INFO] Register count_convNd() for <class 'torch.nn.modules.conv.Conv2d'>.\n",
      "[INFO] Register count_normalization() for <class 'torch.nn.modules.batchnorm.BatchNorm2d'>.\n",
      "[INFO] Register zero_ops() for <class 'torch.nn.modules.activation.ReLU'>.\n",
      "[INFO] Register zero_ops() for <class 'torch.nn.modules.container.Sequential'>.\n",
      "[INFO] Register count_adap_avgpool() for <class 'torch.nn.modules.pooling.AdaptiveAvgPool2d'>.\n",
      "[INFO] Register zero_ops() for <class 'torch.nn.modules.dropout.Dropout'>.\n",
      "[INFO] Register count_linear() for <class 'torch.nn.modules.linear.Linear'>.\n"
     ]
    }
   ],
   "source": [
    "macs, params = profile(model, inputs=(input, ))"
   ]
  },
  {
   "cell_type": "code",
   "execution_count": 6,
   "metadata": {},
   "outputs": [
    {
     "name": "stdout",
     "output_type": "stream",
     "text": [
      "FLOPs: 0.411552096 G\n",
      "Params: 4.01011 M\n"
     ]
    }
   ],
   "source": [
    "print(f\"FLOPs: {macs / 1e9} G\")  # 打印计算量（以十亿次浮点运算为单位）  \n",
    "print(f\"Params: {params / 1e6} M\")  # 打印参数量（以百万为单位）"
   ]
  },
  {
   "cell_type": "code",
   "execution_count": 7,
   "metadata": {},
   "outputs": [
    {
     "data": {
      "text/plain": [
       "===============================================================================================\n",
       "Layer (type:depth-idx)                        Output Shape              Param #\n",
       "===============================================================================================\n",
       "EfficientNet                                  [1, 2]                    --\n",
       "├─Sequential: 1-1                             [1, 1280, 7, 7]           --\n",
       "│    └─ConvBNActivation: 2-1                  [1, 32, 112, 112]         --\n",
       "│    │    └─Conv2d: 3-1                       [1, 32, 112, 112]         864\n",
       "│    │    └─BatchNorm2d: 3-2                  [1, 32, 112, 112]         64\n",
       "│    │    └─ReLU: 3-3                         [1, 32, 112, 112]         --\n",
       "│    └─InvertedResidual: 2-2                  [1, 16, 112, 112]         --\n",
       "│    │    └─Sequential: 3-4                   [1, 16, 112, 112]         1,448\n",
       "│    │    └─Identity: 3-5                     [1, 16, 112, 112]         --\n",
       "│    └─InvertedResidual: 2-3                  [1, 24, 56, 56]           --\n",
       "│    │    └─Sequential: 3-6                   [1, 24, 56, 56]           6,004\n",
       "│    │    └─Identity: 3-7                     [1, 24, 56, 56]           --\n",
       "│    └─InvertedResidual: 2-4                  [1, 24, 56, 56]           --\n",
       "│    │    └─Sequential: 3-8                   [1, 24, 56, 56]           10,710\n",
       "│    │    └─DropPath: 3-9                     [1, 24, 56, 56]           --\n",
       "│    └─InvertedResidual: 2-5                  [1, 40, 28, 28]           --\n",
       "│    │    └─Sequential: 3-10                  [1, 40, 28, 28]           15,350\n",
       "│    │    └─Identity: 3-11                    [1, 40, 28, 28]           --\n",
       "│    └─InvertedResidual: 2-6                  [1, 40, 28, 28]           --\n",
       "│    │    └─Sequential: 3-12                  [1, 40, 28, 28]           31,290\n",
       "│    │    └─DropPath: 3-13                    [1, 40, 28, 28]           --\n",
       "│    └─InvertedResidual: 2-7                  [1, 80, 14, 14]           --\n",
       "│    │    └─Sequential: 3-14                  [1, 80, 14, 14]           37,130\n",
       "│    │    └─Identity: 3-15                    [1, 80, 14, 14]           --\n",
       "│    └─InvertedResidual: 2-8                  [1, 80, 14, 14]           --\n",
       "│    │    └─Sequential: 3-16                  [1, 80, 14, 14]           102,900\n",
       "│    │    └─DropPath: 3-17                    [1, 80, 14, 14]           --\n",
       "│    └─InvertedResidual: 2-9                  [1, 80, 14, 14]           --\n",
       "│    │    └─Sequential: 3-18                  [1, 80, 14, 14]           102,900\n",
       "│    │    └─DropPath: 3-19                    [1, 80, 14, 14]           --\n",
       "│    └─InvertedResidual: 2-10                 [1, 112, 14, 14]          --\n",
       "│    │    └─Sequential: 3-20                  [1, 112, 14, 14]          126,004\n",
       "│    │    └─Identity: 3-21                    [1, 112, 14, 14]          --\n",
       "│    └─InvertedResidual: 2-11                 [1, 112, 14, 14]          --\n",
       "│    │    └─Sequential: 3-22                  [1, 112, 14, 14]          208,572\n",
       "│    │    └─DropPath: 3-23                    [1, 112, 14, 14]          --\n",
       "│    └─InvertedResidual: 2-12                 [1, 112, 14, 14]          --\n",
       "│    │    └─Sequential: 3-24                  [1, 112, 14, 14]          208,572\n",
       "│    │    └─DropPath: 3-25                    [1, 112, 14, 14]          --\n",
       "│    └─InvertedResidual: 2-13                 [1, 192, 7, 7]            --\n",
       "│    │    └─Sequential: 3-26                  [1, 192, 7, 7]            262,492\n",
       "│    │    └─Identity: 3-27                    [1, 192, 7, 7]            --\n",
       "│    └─InvertedResidual: 2-14                 [1, 192, 7, 7]            --\n",
       "│    │    └─Sequential: 3-28                  [1, 192, 7, 7]            587,952\n",
       "│    │    └─DropPath: 3-29                    [1, 192, 7, 7]            --\n",
       "│    └─InvertedResidual: 2-15                 [1, 192, 7, 7]            --\n",
       "│    │    └─Sequential: 3-30                  [1, 192, 7, 7]            587,952\n",
       "│    │    └─DropPath: 3-31                    [1, 192, 7, 7]            --\n",
       "│    └─InvertedResidual: 2-16                 [1, 192, 7, 7]            --\n",
       "│    │    └─Sequential: 3-32                  [1, 192, 7, 7]            587,952\n",
       "│    │    └─DropPath: 3-33                    [1, 192, 7, 7]            --\n",
       "│    └─InvertedResidual: 2-17                 [1, 320, 7, 7]            --\n",
       "│    │    └─Sequential: 3-34                  [1, 320, 7, 7]            717,232\n",
       "│    │    └─Identity: 3-35                    [1, 320, 7, 7]            --\n",
       "│    └─ConvBNActivation: 2-18                 [1, 1280, 7, 7]           --\n",
       "│    │    └─Conv2d: 3-36                      [1, 1280, 7, 7]           409,600\n",
       "│    │    └─BatchNorm2d: 3-37                 [1, 1280, 7, 7]           2,560\n",
       "│    │    └─ReLU: 3-38                        [1, 1280, 7, 7]           --\n",
       "├─AdaptiveAvgPool2d: 1-2                      [1, 1280, 1, 1]           --\n",
       "├─Sequential: 1-3                             [1, 2]                    --\n",
       "│    └─Dropout: 2-19                          [1, 1280]                 --\n",
       "│    └─Linear: 2-20                           [1, 2]                    2,562\n",
       "===============================================================================================\n",
       "Total params: 4,010,110\n",
       "Trainable params: 4,010,110\n",
       "Non-trainable params: 0\n",
       "Total mult-adds (M): 384.59\n",
       "===============================================================================================\n",
       "Input size (MB): 0.60\n",
       "Forward/backward pass size (MB): 107.88\n",
       "Params size (MB): 16.04\n",
       "Estimated Total Size (MB): 124.52\n",
       "==============================================================================================="
      ]
     },
     "execution_count": 7,
     "metadata": {},
     "output_type": "execute_result"
    }
   ],
   "source": [
    "summary(model, (1, 3, 224, 224))"
   ]
  }
 ],
 "metadata": {
  "kernelspec": {
   "display_name": "Python 3",
   "language": "python",
   "name": "python3"
  },
  "language_info": {
   "codemirror_mode": {
    "name": "ipython",
    "version": 3
   },
   "file_extension": ".py",
   "mimetype": "text/x-python",
   "name": "python",
   "nbconvert_exporter": "python",
   "pygments_lexer": "ipython3",
   "version": "3.7.16"
  }
 },
 "nbformat": 4,
 "nbformat_minor": 2
}
